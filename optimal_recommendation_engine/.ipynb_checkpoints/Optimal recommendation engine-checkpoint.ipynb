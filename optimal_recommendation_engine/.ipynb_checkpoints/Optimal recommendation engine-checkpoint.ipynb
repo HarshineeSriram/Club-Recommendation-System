{
 "cells": [
  {
   "cell_type": "code",
   "execution_count": 41,
   "metadata": {},
   "outputs": [],
   "source": [
    "import json\n",
    "import collections\n",
    "from collections import Counter, OrderedDict\n",
    "import numpy as np\n",
    "import pandas as pd\n",
    "from ast import literal_eval\n",
    "\n",
    "\n",
    "class recommendations:\n",
    "    def __init__(self) -> None:\n",
    "        # Loading initial files and variables\n",
    "        print(\"\\n 1) Loading initial data. . .\")\n",
    "        initial_parameters = open(r'initial_parameters.json')\n",
    "        initial_parameters = json.load(initial_parameters)\n",
    "        self.all_clubs_similarity = pd.read_csv(\n",
    "            '../generated_csv_files/2_clubs_similarity.csv')\n",
    "        self.complete_details = pd.read_csv(\n",
    "            '../generated_csv_files/1_student_all_interests.csv')\n",
    "        f_clubs = open(initial_parameters['paths']['path_to_all_clubs'],)\n",
    "        data_clubs = json.load(f_clubs)\n",
    "        self.number_of_clubs = len(data_clubs)\n",
    "        self.club_titles = [data_clubs[i]['title'] for i in range(\n",
    "            self.number_of_clubs)]\n",
    "        self.number_of_students = initial_parameters['number_of_students']\n",
    "        self.hash_keys = self.complete_details['hash_key']\n",
    "\n",
    "    #def common_personal_tags()\n",
    "    \n",
    "    def get_personal_info(self, student_hash_key):\n",
    "        print(self.complete_details.loc[self.complete_details['hash_key'] == student_hash_key])\n",
    "\n",
    "    def generate_similarity_index(self) -> None:\n",
    "        print(\"\\n 2) Generating similarity indices. . .\")\n",
    "        self.all_club_lengths = []\n",
    "        for student in range(self.number_of_students):\n",
    "            this_club_length = []\n",
    "            for clubs in self.all_clubs_similarity.iloc[student, 1:]:\n",
    "                this_club_length.append(len(literal_eval(clubs)))\n",
    "            self.all_club_lengths.append(this_club_length)\n",
    "\n",
    "        pd.DataFrame(\n",
    "            self.all_club_lengths, columns=self.hash_keys).set_index(\n",
    "                i for i in self.hash_keys).to_csv(\n",
    "                    './generated_csv_files/3_clubs_similarity_index.csv')\n",
    "        print(\"\\n\\n Process completed!\")\n",
    "\n",
    "    def most_similar_users(self):\n",
    "        # Storing club recommendations from most recommended\n",
    "        # to least recommended\n",
    "        self.similarity_index_dataset = pd.read_csv(\n",
    "            './generated_csv_files/3_clubs_similarity_index.csv')\n",
    "        print(\"\\n 1) Finding most similar users. . .\")\n",
    "        self.similar_students = []\n",
    "        for student in range(self.number_of_students):\n",
    "            self.similar_students.append(\n",
    "                list(\n",
    "                    self.similarity_index_dataset.iloc[student, 1:].sort_values(ascending=False).keys()))\n",
    "\n",
    "        similar_students = pd.DataFrame(self.similar_students, index=self.hash_keys)\n",
    "        similar_students.to_csv('./generated_csv_files/4_similar_students.csv', header=False)\n",
    "\n",
    "    def get_clubs(self, student_hash_key: str) -> None:\n",
    "        # Get all clubs associated with one hash_key corresponding to one student\n",
    "        get_student_index = self.complete_details.hash_key[self.complete_details.hash_key == student_hash_key].index.tolist()\n",
    "        for idx in get_student_index:\n",
    "            return(self.complete_details[\"clubs\"][idx])\n",
    "\n",
    "    def find_other_clubs(self, this_student_clubs:list, another_student_clubs:list) -> list:\n",
    "        # Find unique clubs between two club lists\n",
    "        #return list(set(literal_eval(this_student_clubs)) ^ set(literal_eval(another_student_clubs)))\n",
    "        \n",
    "        return literal_eval(list(np.setdiff1d(another_student_clubs, this_student_clubs))[0])\n",
    "\n",
    "    def get_importance(self, this_student_pos:int, other_student_hash_key:str) -> None:\n",
    "        # Calculate the weight of each suggestion\n",
    "        self.similarity_index_dataset = pd.read_csv('./generated_csv_files/3_clubs_similarity_index.csv')\n",
    "        return (self.similarity_index_dataset[other_student_hash_key][this_student_pos])\n",
    "\n",
    "    def sort_dictionary(self, dictionary:dict) -> list:\n",
    "        new_dictionary = {k:v for k, v in sorted(dictionary.items(), key=lambda item: item[1])}\n",
    "        return new_dictionary.keys()\n",
    "\n",
    "    def generate_recommendations(self) -> None:\n",
    "        print(\"\\n 2) Computing recommendations. . .\")\n",
    "        self.similarity_students = pd.read_csv('./generated_csv_files/4_similar_students.csv', header=None)\n",
    "        self.student_club_recommendations = []\n",
    "\n",
    "        for this_student in range(self.number_of_students):\n",
    "            this_hash_key = self.similarity_students.iloc[this_student, 0]\n",
    "\n",
    "            self.this_clubs = self.get_clubs(this_hash_key)\n",
    "            self.this_clubs_scores = {}\n",
    "            keys = self.club_titles.copy()\n",
    "            values = [0 for i in range(self.number_of_clubs)]\n",
    "            for i in range(self.number_of_clubs):\n",
    "                self.this_clubs_scores[keys[i]] = values[i]\n",
    "\n",
    "            for other_student in range(1, self.number_of_students+1):\n",
    "                other_hash_key = self.similarity_students.iloc[this_student, other_student]\n",
    "                if(other_hash_key != this_hash_key):\n",
    "                    self.other_clubs = self.get_clubs(other_hash_key)\n",
    "                    this_unique_clubs = self.find_other_clubs(self.this_clubs, self.other_clubs)\n",
    "                    for club in this_unique_clubs:\n",
    "                        self.this_clubs_scores[club] += self.get_importance(this_student, other_hash_key)\n",
    "\n",
    "            #for key in list(self.this_clubs_scores.keys()):\n",
    "            #    if key in self.this_clubs:\n",
    "            #        del self.this_clubs_scores[key]\n",
    "\n",
    "            self.this_clubs_scores = self.sort_dictionary(self.this_clubs_scores)\n",
    "            print(\"\\n Process \", this_student+1, \"/\", self.number_of_students, \" completed.\")\n",
    "            self.student_club_recommendations.append(self.this_clubs_scores)\n",
    "\n",
    "        pd.DataFrame(self.student_club_recommendations).set_index(i for i in self.hash_keys).to_csv('./generated_csv_files/5_club_recommendations.csv')\n",
    "        print(\"\\nAll pipeline processes have completed successfully!\")"
   ]
  },
  {
   "cell_type": "code",
   "execution_count": 31,
   "metadata": {},
   "outputs": [
    {
     "name": "stdout",
     "output_type": "stream",
     "text": [
      "\n",
      " 1) Loading initial data. . .\n"
     ]
    },
    {
     "ename": "AttributeError",
     "evalue": "'recommendations' object has no attribute 'similarity_coeff'",
     "output_type": "error",
     "traceback": [
      "\u001b[1;31m---------------------------------------------------------------------------\u001b[0m",
      "\u001b[1;31mAttributeError\u001b[0m                            Traceback (most recent call last)",
      "\u001b[1;32m<ipython-input-31-7918dbee3050>\u001b[0m in \u001b[0;36m<module>\u001b[1;34m\u001b[0m\n\u001b[0;32m      1\u001b[0m \u001b[0mthis_obj\u001b[0m \u001b[1;33m=\u001b[0m \u001b[0mrecommendations\u001b[0m\u001b[1;33m(\u001b[0m\u001b[1;33m)\u001b[0m\u001b[1;33m\u001b[0m\u001b[1;33m\u001b[0m\u001b[0m\n\u001b[1;32m----> 2\u001b[1;33m \u001b[0mthis_obj\u001b[0m\u001b[1;33m.\u001b[0m\u001b[0msimilarity_coeff\u001b[0m\u001b[1;33m(\u001b[0m\u001b[0mthis_obj\u001b[0m\u001b[1;33m.\u001b[0m\u001b[0mcomplete_details\u001b[0m\u001b[1;33m.\u001b[0m\u001b[0miloc\u001b[0m\u001b[1;33m[\u001b[0m\u001b[1;36m2\u001b[0m\u001b[1;33m,\u001b[0m \u001b[1;36m1\u001b[0m\u001b[1;33m]\u001b[0m\u001b[1;33m,\u001b[0m \u001b[0mthis_obj\u001b[0m\u001b[1;33m.\u001b[0m\u001b[0mcomplete_details\u001b[0m\u001b[1;33m.\u001b[0m\u001b[0miloc\u001b[0m\u001b[1;33m[\u001b[0m\u001b[1;36m2\u001b[0m\u001b[1;33m,\u001b[0m \u001b[1;36m3\u001b[0m\u001b[1;33m]\u001b[0m\u001b[1;33m)\u001b[0m\u001b[1;33m\u001b[0m\u001b[1;33m\u001b[0m\u001b[0m\n\u001b[0m",
      "\u001b[1;31mAttributeError\u001b[0m: 'recommendations' object has no attribute 'similarity_coeff'"
     ]
    }
   ],
   "source": [
    "this_obj = recommendations()\n",
    "this_obj.similarity_coeff(this_obj.complete_details.iloc[2, 1], this_obj.complete_details.iloc[2, 3])"
   ]
  },
  {
   "cell_type": "code",
   "execution_count": 42,
   "metadata": {},
   "outputs": [],
   "source": [
    "this_obj.get_personal_info(this_obj.complete_details.iloc[2, 1])"
   ]
  },
  {
   "cell_type": "code",
   "execution_count": 43,
   "metadata": {},
   "outputs": [],
   "source": [
    "this_obj.get_personal_info(this_obj.complete_details.iloc[2, 3])"
   ]
  }
 ],
 "metadata": {
  "kernelspec": {
   "display_name": "Python 3",
   "language": "python",
   "name": "python3"
  },
  "language_info": {
   "codemirror_mode": {
    "name": "ipython",
    "version": 3
   },
   "file_extension": ".py",
   "mimetype": "text/x-python",
   "name": "python",
   "nbconvert_exporter": "python",
   "pygments_lexer": "ipython3",
   "version": "3.8.3"
  }
 },
 "nbformat": 4,
 "nbformat_minor": 4
}
